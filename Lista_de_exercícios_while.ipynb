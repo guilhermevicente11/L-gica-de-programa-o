{
  "nbformat": 4,
  "nbformat_minor": 0,
  "metadata": {
    "colab": {
      "provenance": [],
      "authorship_tag": "ABX9TyOPEzLlp6RXslrqd+lsQKsQ",
      "include_colab_link": true
    },
    "kernelspec": {
      "name": "python3",
      "display_name": "Python 3"
    },
    "language_info": {
      "name": "python"
    }
  },
  "cells": [
    {
      "cell_type": "markdown",
      "metadata": {
        "id": "view-in-github",
        "colab_type": "text"
      },
      "source": [
        "<a href=\"https://colab.research.google.com/github/guilhermevicente11/Logica-de-programacao/blob/main/Lista_de_exerc%C3%ADcios_while.ipynb\" target=\"_parent\"><img src=\"https://colab.research.google.com/assets/colab-badge.svg\" alt=\"Open In Colab\"/></a>"
      ]
    },
    {
      "cell_type": "markdown",
      "source": [
        "1) Faça um programa que peça ao usuário um número e imprima todos os números de um até o número dado.\n",
        "\n",
        "Exemplo:\n",
        "\n",
        "digite: 5\n",
        "\n",
        "imprime: 1 2 3 4 5"
      ],
      "metadata": {
        "id": "TyGWPsOG3MXk"
      }
    },
    {
      "cell_type": "code",
      "source": [
        "num = int(input(\"Digite seu numero: \"))\n",
        "sequencia = 1\n",
        "\n",
        "while (num >= sequencia):\n",
        "  print(sequencia)\n",
        "  sequencia = sequencia + 1"
      ],
      "metadata": {
        "id": "MSJaAmyR3v2a"
      },
      "execution_count": null,
      "outputs": []
    },
    {
      "cell_type": "markdown",
      "source": [
        "2)Peça ao usuário para digitar um número e imprima o fatorial de n."
      ],
      "metadata": {
        "id": "y8GnQ5DT3alS"
      }
    },
    {
      "cell_type": "code",
      "source": [
        "num = int(input(\"digite um numero: \"))\n",
        "\n",
        "fatorial = 1\n",
        "contador = 1\n",
        "\n",
        "\n",
        "while (num >= contador):\n",
        "  fatorial = fatorial*contador\n",
        "  contador += 1\n",
        "\n",
        "print(fatorial)\n",
        "  \n"
      ],
      "metadata": {
        "id": "dGHUTUGy5a_c"
      },
      "execution_count": null,
      "outputs": []
    },
    {
      "cell_type": "markdown",
      "source": [
        "3) Peça ao usuário para digitar um número N e some todos os números de 1 a N utilizando o laço de repetição while"
      ],
      "metadata": {
        "id": "rrgOKpFV3j5U"
      }
    },
    {
      "cell_type": "code",
      "source": [
        "num = int(input(\"digite um numero: \"))\n",
        "\n",
        "somatorio = 0\n",
        "contador = 1\n",
        "\n",
        "while (contador <= num):\n",
        "  somatorio = somatorio + contador\n",
        "  contador = contador+1\n",
        "\n",
        "print(somatorio)"
      ],
      "metadata": {
        "colab": {
          "base_uri": "https://localhost:8080/"
        },
        "id": "HSBqbxtsQGrR",
        "outputId": "6b12abfb-dc3e-497f-f383-fdc711724b16"
      },
      "execution_count": null,
      "outputs": [
        {
          "output_type": "stream",
          "name": "stdout",
          "text": [
            "digite um numero: 5\n",
            "6\n",
            "15\n"
          ]
        }
      ]
    },
    {
      "cell_type": "markdown",
      "source": [
        "4) Faça um programa que imprima a tabuada do 9 (de 9x1 a 9x10) usando loops."
      ],
      "metadata": {
        "id": "PX9iCx_93nDO"
      }
    },
    {
      "cell_type": "code",
      "source": [
        "num = int(input(\"Digite a o número para ver a sua tabuada até 10: \"))\n",
        "\n",
        "contador = -1\n",
        "\n",
        "while (contador < 10):\n",
        "  contador += 1\n",
        "  print(f\"{num} x {contador} = {num*contador}\")\n",
        "  \n",
        "  \n"
      ],
      "metadata": {
        "id": "Ai2kRqMGRcnX"
      },
      "execution_count": null,
      "outputs": []
    },
    {
      "cell_type": "markdown",
      "source": [
        "5)Faça um programa, usando loops, que peça para um usuário digitar um número e que só finaliza quando o usuário digitar 0. Ao final imprima a soma de todos os números digitados."
      ],
      "metadata": {
        "id": "Tchwnsty3z8r"
      }
    },
    {
      "cell_type": "code",
      "source": [
        "num = int(input(\"Digite um numero: \"))\n",
        "acumulador = 0\n",
        "\n",
        "while (num != 0):\n",
        "  acumulador = acumulador + num\n",
        "  num = int(input(\"Digite um numero: \"))\n",
        "\n",
        "print(f\"Você acertou e seu acumulado nas respostas anteriores é: {acumulador}\")\n"
      ],
      "metadata": {
        "colab": {
          "base_uri": "https://localhost:8080/"
        },
        "id": "4ou9yraMTrPz",
        "outputId": "d60aadbd-47c5-4bb2-acfd-d6f493650b8f"
      },
      "execution_count": null,
      "outputs": [
        {
          "output_type": "stream",
          "name": "stdout",
          "text": [
            "Digite um numero: 5\n",
            "Digite um numero: 5\n",
            "Digite um numero: 10\n",
            "Digite um numero: 30\n",
            "Digite um numero: 2\n",
            "Digite um numero: 7\n",
            "Digite um numero: 9\n",
            "Digite um numero: 2\n",
            "Digite um numero: 0\n",
            "Você acertou e seu acumulado nas respostas anteriores é: 70\n"
          ]
        }
      ]
    },
    {
      "cell_type": "markdown",
      "source": [
        "6) Faça um programa que sorteia um número N e peça para o usuário adivinhar o número sorteado. A cada resposta errada, o seu programa deve imprimir um aviso dizendo que a resposta está errada e pedir novamente uma resposta ao usuário.\n",
        "\n",
        "Para a realização desse exercício, utilize alguma função da biblioteca random (e.g. randint())."
      ],
      "metadata": {
        "id": "X9ONTrM635Cg"
      }
    },
    {
      "cell_type": "markdown",
      "source": [
        "7) Faça um programa que peça para o usuário digitar a idade, o salário e o sexo de uma pessoa até que as entradas digitadas sejam válidas.\n",
        "\n",
        "a. Idade: entre 0 e 150;\n",
        "\n",
        "b. Salário: maior que 0;\n",
        "\n",
        "c. Sexo: M, F ou Outro."
      ],
      "metadata": {
        "id": "Dh44kfk33-iy"
      }
    },
    {
      "cell_type": "code",
      "source": [
        "idade = int(input(\"Digite sua idade: \"))\n",
        "while (0 > idade) or (idade > 150):\n",
        "  idade = int(input(\"Digite uma idade válida: \"))\n",
        "\n",
        "salario = float(input(\"Digite seu salário: \"))\n",
        "while (salario < 0):\n",
        "  salario = float(input(\"Digite um salário válido: \"))\n",
        "\n",
        "sexo = input(\"Digite seu sexo M/F/Outro: \")\n",
        "while (sexo != \"M\") and (sexo != \"F\") and (sexo != \"Outro\"):\n",
        "  sexo = input(\"Digite uma informação válida : \")\n",
        "\n",
        "print(f\"Seu salário é de {salario}\")\n",
        "print(f\"Sua idade é: {idade}\")\n",
        "print(f\"Sua sexualidade é: {sexo}\")"
      ],
      "metadata": {
        "colab": {
          "base_uri": "https://localhost:8080/"
        },
        "id": "D24CEYX9XbsB",
        "outputId": "44940d3f-a507-4a7f-b921-cdd7865927e5"
      },
      "execution_count": null,
      "outputs": [
        {
          "output_type": "stream",
          "name": "stdout",
          "text": [
            "Digite sua idade: 47\n",
            "Digite seu salário:2587\n",
            "Digite seu sexo M/F/Outro: F\n",
            "Seu salário é de 2587.0\n",
            "Sua idade é: 47\n",
            "Sua sexualidade é: F\n"
          ]
        }
      ]
    },
    {
      "cell_type": "markdown",
      "source": [
        "8) Desafio! - Calcule a soma de até mil termos da série 1 + 1/2 + 1/4 + 1/8 + 1/16 + ...\n",
        "\n",
        "Dica: Use três variáveis:\n",
        "\n",
        "• um contador, que começa em zero;\n",
        "\n",
        "• uma variável para a soma de todos os termos, que também começa em zero;\n",
        "\n",
        "• uma variável para cada termo, que começa em 1 e a cada loop é dividida por 2.\n",
        "\n",
        "A repetição da soma de mil termos pode ser feita com a função while contador < 1000."
      ],
      "metadata": {
        "id": "PPwXP3Lj4Dy5"
      }
    },
    {
      "cell_type": "code",
      "source": [],
      "metadata": {
        "id": "ZCYhZJBYaYJ3"
      },
      "execution_count": null,
      "outputs": []
    },
    {
      "cell_type": "markdown",
      "source": [
        "9)Super Desafio! - Calcule a soma de mil termos dos inversos dos fatoriais: 1/(1!) + 1/(2!) + 1/(3!) + 1/(4!) + ...\n",
        "\n",
        "Dica: Assim como no exercício anterior use três variáveis: um contador; uma variável para a soma; e uma variável para os termos. Lembre-se de que 4! = 4*3*2*1 que também é igual a 4*3!."
      ],
      "metadata": {
        "id": "arlk4-Ly4IU6"
      }
    }
  ]
}