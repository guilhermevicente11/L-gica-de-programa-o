{
  "nbformat": 4,
  "nbformat_minor": 0,
  "metadata": {
    "colab": {
      "provenance": [],
      "authorship_tag": "ABX9TyPneiFWcyX9sD5bHKCGTfp2",
      "include_colab_link": true
    },
    "kernelspec": {
      "name": "python3",
      "display_name": "Python 3"
    },
    "language_info": {
      "name": "python"
    }
  },
  "cells": [
    {
      "cell_type": "markdown",
      "metadata": {
        "id": "view-in-github",
        "colab_type": "text"
      },
      "source": [
        "<a href=\"https://colab.research.google.com/github/guilhermevicente11/Logica_de_programacao/blob/main/C%C3%B3digos_relat%C3%B3rio.ipynb\" target=\"_parent\"><img src=\"https://colab.research.google.com/assets/colab-badge.svg\" alt=\"Open In Colab\"/></a>"
      ]
    },
    {
      "cell_type": "markdown",
      "source": [],
      "metadata": {
        "id": "JNJUustnlVjK"
      }
    },
    {
      "cell_type": "markdown",
      "source": [
        "Importação das bibliotecas"
      ],
      "metadata": {
        "id": "w8UOOmN_NY6S"
      }
    },
    {
      "cell_type": "code",
      "execution_count": 2,
      "metadata": {
        "id": "oVKJzaM4NRGc"
      },
      "outputs": [],
      "source": [
        "import pandas as pd\n",
        "import seaborn as sns\n",
        "import warnings\n",
        "import matplotlib.pyplot as plt\n",
        "warnings.filterwarnings(\"ignore\")"
      ]
    },
    {
      "cell_type": "markdown",
      "source": [
        "Leitura do csv e primeira impresão das 5 primeiras linhas"
      ],
      "metadata": {
        "id": "xFc0GbVuNm2D"
      }
    },
    {
      "cell_type": "code",
      "source": [
        "df = pd.read_csv('/content/churn.csv', sep=',')\n",
        "df.head(5)"
      ],
      "metadata": {
        "id": "GaMXsnh_NcKt",
        "colab": {
          "base_uri": "https://localhost:8080/",
          "height": 206
        },
        "outputId": "016ce493-0262-4d29-8050-b6b2a425c041"
      },
      "execution_count": 3,
      "outputs": [
        {
          "output_type": "execute_result",
          "data": {
            "text/plain": [
              "   RowNumber  CustomerId   Surname  CreditScore Geography  Gender  Age  \\\n",
              "0          1    15634602  Hargrave          619    France  Female   42   \n",
              "1          2    15647311      Hill          608     Spain  Female   41   \n",
              "2          3    15619304      Onio          502    France  Female   42   \n",
              "3          4    15701354      Boni          699    France  Female   39   \n",
              "4          5    15737888  Mitchell          850     Spain  Female   43   \n",
              "\n",
              "   Tenure    Balance  NumOfProducts  HasCrCard  IsActiveMember  \\\n",
              "0       2       0.00              1          1               1   \n",
              "1       1   83807.86              1          0               1   \n",
              "2       8  159660.80              3          1               0   \n",
              "3       1       0.00              2          0               0   \n",
              "4       2  125510.82              1          1               1   \n",
              "\n",
              "   EstimatedSalary  Exited  \n",
              "0        101348.88       1  \n",
              "1        112542.58       0  \n",
              "2        113931.57       1  \n",
              "3         93826.63       0  \n",
              "4         79084.10       0  "
            ],
            "text/html": [
              "\n",
              "  <div id=\"df-56dd6074-2563-44dd-a48d-391a555499a2\">\n",
              "    <div class=\"colab-df-container\">\n",
              "      <div>\n",
              "<style scoped>\n",
              "    .dataframe tbody tr th:only-of-type {\n",
              "        vertical-align: middle;\n",
              "    }\n",
              "\n",
              "    .dataframe tbody tr th {\n",
              "        vertical-align: top;\n",
              "    }\n",
              "\n",
              "    .dataframe thead th {\n",
              "        text-align: right;\n",
              "    }\n",
              "</style>\n",
              "<table border=\"1\" class=\"dataframe\">\n",
              "  <thead>\n",
              "    <tr style=\"text-align: right;\">\n",
              "      <th></th>\n",
              "      <th>RowNumber</th>\n",
              "      <th>CustomerId</th>\n",
              "      <th>Surname</th>\n",
              "      <th>CreditScore</th>\n",
              "      <th>Geography</th>\n",
              "      <th>Gender</th>\n",
              "      <th>Age</th>\n",
              "      <th>Tenure</th>\n",
              "      <th>Balance</th>\n",
              "      <th>NumOfProducts</th>\n",
              "      <th>HasCrCard</th>\n",
              "      <th>IsActiveMember</th>\n",
              "      <th>EstimatedSalary</th>\n",
              "      <th>Exited</th>\n",
              "    </tr>\n",
              "  </thead>\n",
              "  <tbody>\n",
              "    <tr>\n",
              "      <th>0</th>\n",
              "      <td>1</td>\n",
              "      <td>15634602</td>\n",
              "      <td>Hargrave</td>\n",
              "      <td>619</td>\n",
              "      <td>France</td>\n",
              "      <td>Female</td>\n",
              "      <td>42</td>\n",
              "      <td>2</td>\n",
              "      <td>0.00</td>\n",
              "      <td>1</td>\n",
              "      <td>1</td>\n",
              "      <td>1</td>\n",
              "      <td>101348.88</td>\n",
              "      <td>1</td>\n",
              "    </tr>\n",
              "    <tr>\n",
              "      <th>1</th>\n",
              "      <td>2</td>\n",
              "      <td>15647311</td>\n",
              "      <td>Hill</td>\n",
              "      <td>608</td>\n",
              "      <td>Spain</td>\n",
              "      <td>Female</td>\n",
              "      <td>41</td>\n",
              "      <td>1</td>\n",
              "      <td>83807.86</td>\n",
              "      <td>1</td>\n",
              "      <td>0</td>\n",
              "      <td>1</td>\n",
              "      <td>112542.58</td>\n",
              "      <td>0</td>\n",
              "    </tr>\n",
              "    <tr>\n",
              "      <th>2</th>\n",
              "      <td>3</td>\n",
              "      <td>15619304</td>\n",
              "      <td>Onio</td>\n",
              "      <td>502</td>\n",
              "      <td>France</td>\n",
              "      <td>Female</td>\n",
              "      <td>42</td>\n",
              "      <td>8</td>\n",
              "      <td>159660.80</td>\n",
              "      <td>3</td>\n",
              "      <td>1</td>\n",
              "      <td>0</td>\n",
              "      <td>113931.57</td>\n",
              "      <td>1</td>\n",
              "    </tr>\n",
              "    <tr>\n",
              "      <th>3</th>\n",
              "      <td>4</td>\n",
              "      <td>15701354</td>\n",
              "      <td>Boni</td>\n",
              "      <td>699</td>\n",
              "      <td>France</td>\n",
              "      <td>Female</td>\n",
              "      <td>39</td>\n",
              "      <td>1</td>\n",
              "      <td>0.00</td>\n",
              "      <td>2</td>\n",
              "      <td>0</td>\n",
              "      <td>0</td>\n",
              "      <td>93826.63</td>\n",
              "      <td>0</td>\n",
              "    </tr>\n",
              "    <tr>\n",
              "      <th>4</th>\n",
              "      <td>5</td>\n",
              "      <td>15737888</td>\n",
              "      <td>Mitchell</td>\n",
              "      <td>850</td>\n",
              "      <td>Spain</td>\n",
              "      <td>Female</td>\n",
              "      <td>43</td>\n",
              "      <td>2</td>\n",
              "      <td>125510.82</td>\n",
              "      <td>1</td>\n",
              "      <td>1</td>\n",
              "      <td>1</td>\n",
              "      <td>79084.10</td>\n",
              "      <td>0</td>\n",
              "    </tr>\n",
              "  </tbody>\n",
              "</table>\n",
              "</div>\n",
              "      <button class=\"colab-df-convert\" onclick=\"convertToInteractive('df-56dd6074-2563-44dd-a48d-391a555499a2')\"\n",
              "              title=\"Convert this dataframe to an interactive table.\"\n",
              "              style=\"display:none;\">\n",
              "        \n",
              "  <svg xmlns=\"http://www.w3.org/2000/svg\" height=\"24px\"viewBox=\"0 0 24 24\"\n",
              "       width=\"24px\">\n",
              "    <path d=\"M0 0h24v24H0V0z\" fill=\"none\"/>\n",
              "    <path d=\"M18.56 5.44l.94 2.06.94-2.06 2.06-.94-2.06-.94-.94-2.06-.94 2.06-2.06.94zm-11 1L8.5 8.5l.94-2.06 2.06-.94-2.06-.94L8.5 2.5l-.94 2.06-2.06.94zm10 10l.94 2.06.94-2.06 2.06-.94-2.06-.94-.94-2.06-.94 2.06-2.06.94z\"/><path d=\"M17.41 7.96l-1.37-1.37c-.4-.4-.92-.59-1.43-.59-.52 0-1.04.2-1.43.59L10.3 9.45l-7.72 7.72c-.78.78-.78 2.05 0 2.83L4 21.41c.39.39.9.59 1.41.59.51 0 1.02-.2 1.41-.59l7.78-7.78 2.81-2.81c.8-.78.8-2.07 0-2.86zM5.41 20L4 18.59l7.72-7.72 1.47 1.35L5.41 20z\"/>\n",
              "  </svg>\n",
              "      </button>\n",
              "      \n",
              "  <style>\n",
              "    .colab-df-container {\n",
              "      display:flex;\n",
              "      flex-wrap:wrap;\n",
              "      gap: 12px;\n",
              "    }\n",
              "\n",
              "    .colab-df-convert {\n",
              "      background-color: #E8F0FE;\n",
              "      border: none;\n",
              "      border-radius: 50%;\n",
              "      cursor: pointer;\n",
              "      display: none;\n",
              "      fill: #1967D2;\n",
              "      height: 32px;\n",
              "      padding: 0 0 0 0;\n",
              "      width: 32px;\n",
              "    }\n",
              "\n",
              "    .colab-df-convert:hover {\n",
              "      background-color: #E2EBFA;\n",
              "      box-shadow: 0px 1px 2px rgba(60, 64, 67, 0.3), 0px 1px 3px 1px rgba(60, 64, 67, 0.15);\n",
              "      fill: #174EA6;\n",
              "    }\n",
              "\n",
              "    [theme=dark] .colab-df-convert {\n",
              "      background-color: #3B4455;\n",
              "      fill: #D2E3FC;\n",
              "    }\n",
              "\n",
              "    [theme=dark] .colab-df-convert:hover {\n",
              "      background-color: #434B5C;\n",
              "      box-shadow: 0px 1px 3px 1px rgba(0, 0, 0, 0.15);\n",
              "      filter: drop-shadow(0px 1px 2px rgba(0, 0, 0, 0.3));\n",
              "      fill: #FFFFFF;\n",
              "    }\n",
              "  </style>\n",
              "\n",
              "      <script>\n",
              "        const buttonEl =\n",
              "          document.querySelector('#df-56dd6074-2563-44dd-a48d-391a555499a2 button.colab-df-convert');\n",
              "        buttonEl.style.display =\n",
              "          google.colab.kernel.accessAllowed ? 'block' : 'none';\n",
              "\n",
              "        async function convertToInteractive(key) {\n",
              "          const element = document.querySelector('#df-56dd6074-2563-44dd-a48d-391a555499a2');\n",
              "          const dataTable =\n",
              "            await google.colab.kernel.invokeFunction('convertToInteractive',\n",
              "                                                     [key], {});\n",
              "          if (!dataTable) return;\n",
              "\n",
              "          const docLinkHtml = 'Like what you see? Visit the ' +\n",
              "            '<a target=\"_blank\" href=https://colab.research.google.com/notebooks/data_table.ipynb>data table notebook</a>'\n",
              "            + ' to learn more about interactive tables.';\n",
              "          element.innerHTML = '';\n",
              "          dataTable['output_type'] = 'display_data';\n",
              "          await google.colab.output.renderOutput(dataTable, element);\n",
              "          const docLink = document.createElement('div');\n",
              "          docLink.innerHTML = docLinkHtml;\n",
              "          element.appendChild(docLink);\n",
              "        }\n",
              "      </script>\n",
              "    </div>\n",
              "  </div>\n",
              "  "
            ]
          },
          "metadata": {},
          "execution_count": 3
        }
      ]
    },
    {
      "cell_type": "markdown",
      "source": [
        "Olhar os tipos de coluna e identificar se há valores nulos."
      ],
      "metadata": {
        "id": "Qg93o9jmN6BX"
      }
    },
    {
      "cell_type": "code",
      "source": [
        "df.info()"
      ],
      "metadata": {
        "id": "H7zapk0eNxW9"
      },
      "execution_count": null,
      "outputs": []
    },
    {
      "cell_type": "markdown",
      "source": [
        "Filtrando o dataset para quem saiu"
      ],
      "metadata": {
        "id": "V9bqDGGJODG4"
      }
    },
    {
      "cell_type": "code",
      "source": [
        "saida_pessoal = df.loc[df.Exited == 1]"
      ],
      "metadata": {
        "id": "6_08S3JAOMV9"
      },
      "execution_count": 9,
      "outputs": []
    },
    {
      "cell_type": "markdown",
      "source": [
        "Primeiras impressões de quem saiu"
      ],
      "metadata": {
        "id": "hsu2p1SIOVR6"
      }
    },
    {
      "cell_type": "code",
      "source": [
        "saida_pessoal.describe()"
      ],
      "metadata": {
        "id": "Tmw--s5iOaAz"
      },
      "execution_count": null,
      "outputs": []
    },
    {
      "cell_type": "markdown",
      "source": [
        "#1.Iniciando a análise exploratória "
      ],
      "metadata": {
        "id": "EpQAZC2tOk5d"
      }
    },
    {
      "cell_type": "markdown",
      "source": [
        "Gráfico de pizza do percentual de clientes"
      ],
      "metadata": {
        "id": "aH6lLAZKO8Wg"
      }
    },
    {
      "cell_type": "code",
      "source": [
        "values = df.Geography.value_counts()\n",
        "labels = ['Germany','France','Spain']\n",
        "\n",
        "fig, ax = plt.subplots(figsize = (4, 3), dpi = 100)\n",
        "explode = (0, 0.09)\n",
        "\n",
        "patches, texts, autotexts = ax.pie(values, labels = labels, autopct = '%1.2f%%', shadow = True,\n",
        "                                   startangle = 90)\n",
        "\n",
        "plt.setp(texts, color = 'black')\n",
        "plt.setp(autotexts, size = 8, color = 'black')\n",
        "autotexts[1].set_color('black')\n",
        "plt.show()"
      ],
      "metadata": {
        "id": "dF6N7B5ROkT1"
      },
      "execution_count": null,
      "outputs": []
    },
    {
      "cell_type": "markdown",
      "source": [
        "Gráfico de pizza de gênero"
      ],
      "metadata": {
        "id": "XiU_TiAfPM9M"
      }
    },
    {
      "cell_type": "code",
      "source": [
        "values = df.Gender.value_counts()\n",
        "labels = ['Male','Female']\n",
        "\n",
        "fig, ax = plt.subplots(figsize = (4, 3), dpi = 100)\n",
        "explode = (0, 0.09)\n",
        "\n",
        "patches, texts, autotexts = ax.pie(values, labels = labels, autopct = '%1.2f%%', shadow = True,\n",
        "                                   startangle = 90)\n",
        "\n",
        "plt.setp(texts, color = 'black')\n",
        "plt.setp(autotexts, size = 8, color = 'black')\n",
        "autotexts[1].set_color('black')\n",
        "plt.show()"
      ],
      "metadata": {
        "colab": {
          "base_uri": "https://localhost:8080/",
          "height": 263
        },
        "id": "BQaSkhaiPP4r",
        "outputId": "c861689b-0f27-4653-b05d-64e9017abb28"
      },
      "execution_count": null,
      "outputs": [
        {
          "output_type": "display_data",
          "data": {
            "text/plain": [
              "<Figure size 400x300 with 1 Axes>"
            ],
            "image/png": "[encoded data removed]"
          },
          "metadata": {}
        }
      ]
    },
    {
      "cell_type": "markdown",
      "source": [
        "Gráfico de pizza quem saiu e não saiu"
      ],
      "metadata": {
        "id": "N7NEsZbgPgQQ"
      }
    },
    {
      "cell_type": "code",
      "source": [
        "values = df.Exited.value_counts()\n",
        "labels = ['Not Exited', 'Exited']\n",
        "\n",
        "fig, ax = plt.subplots(figsize = (4, 3), dpi = 100)\n",
        "\n",
        "\n",
        "patches, texts, autotexts = ax.pie(values, labels = labels, autopct = '%1.2f%%', shadow = True,\n",
        "                                   startangle = 90)\n",
        "\n",
        "plt.show()"
      ],
      "metadata": {
        "colab": {
          "base_uri": "https://localhost:8080/",
          "height": 263
        },
        "id": "WHKiRi6CPnyR",
        "outputId": "689c8081-8439-482c-9a02-35a7645f3c10"
      },
      "execution_count": null,
      "outputs": [
        {
          "output_type": "display_data",
          "data": {
            "text/plain": [
              "<Figure size 400x300 with 1 Axes>"
            ],
            "image/png": "[encoded data removed]"
          },
          "metadata": {}
        }
      ]
    },
    {
      "cell_type": "markdown",
      "source": [
        "Visualização geral das categorias"
      ],
      "metadata": {
        "id": "FmwubSyFQLDM"
      }
    },
    {
      "cell_type": "code",
      "source": [
        "fig, ax = plt.subplots(3, 2, figsize = (10, 15))\n",
        "\n",
        "sns.countplot(x = 'Geography', hue = 'Exited', data = df, ax = ax[0][0])\n",
        "sns.countplot(x = 'Gender', hue = 'Exited', data = df, ax = ax[0][1])\n",
        "sns.countplot(x = 'Tenure', hue = 'Exited', data = df, ax = ax[1][0])\n",
        "sns.countplot(x = 'NumOfProducts', hue = 'Exited', data = df, ax = ax[1][1])\n",
        "sns.countplot(x = 'HasCrCard', hue = 'Exited', data = df, ax = ax[2][0])\n",
        "sns.countplot(x = 'IsActiveMember', hue = 'Exited', data = df, ax = ax[2][1])\n",
        "\n",
        "plt.tight_layout()\n",
        "plt.show()"
      ],
      "metadata": {
        "colab": {
          "base_uri": "https://localhost:8080/",
          "height": 1000
        },
        "id": "wUbUzirAQKdp",
        "outputId": "b9493030-27ab-4a11-ae0e-1122b7c3ce74"
      },
      "execution_count": null,
      "outputs": [
        {
          "output_type": "display_data",
          "data": {
            "text/plain": [
              "<Figure size 720x1080 with 6 Axes>"
            ],
            "image/png": "[encoded data removed]"
          },
          "metadata": {
            "needs_background": "light"
          }
        }
      ]
    },
    {
      "cell_type": "markdown",
      "source": [
        "#2. Aprofundando a análise exploratória"
      ],
      "metadata": {
        "id": "33VpvEM-Qhxo"
      }
    },
    {
      "cell_type": "markdown",
      "source": [
        "##2.1 IDADE"
      ],
      "metadata": {
        "id": "yi0EajCOVeEH"
      }
    },
    {
      "cell_type": "markdown",
      "source": [
        "Observando a frequencia por idade"
      ],
      "metadata": {
        "id": "TreoIJJwQ2eD"
      }
    },
    {
      "cell_type": "code",
      "source": [
        "hist_age = sns.histplot(saida_pessoal['Age'], kde= False, bins = 25 )\n",
        "hist_age.figure.set_size_inches(15, 5)\n",
        "hist_age.set_title('Distribuição de Frequências por idade', fontsize=20)\n",
        "hist_age.set_xlabel('Idade', fontsize=16)\n",
        "hist_age\n",
        "plt.show()"
      ],
      "metadata": {
        "id": "mcoIXG4CQnUA"
      },
      "execution_count": null,
      "outputs": []
    },
    {
      "cell_type": "markdown",
      "source": [
        "Idade entre 40 e 60"
      ],
      "metadata": {
        "id": "NxmTWsCYUuqn"
      }
    },
    {
      "cell_type": "code",
      "source": [
        "#40-60\n",
        "saida4060 = df.query('40 <= Age <= 60')\n",
        "saida4060.value_counts()\n",
        "graf4060 = sns.countplot(x='Age', hue='Exited', data = saida4060)\n",
        "graf4060.figure.set_size_inches(30,5)\n",
        "plt.show()"
      ],
      "metadata": {
        "colab": {
          "base_uri": "https://localhost:8080/",
          "height": 253
        },
        "id": "lXRLcMdfRPEI",
        "outputId": "4f36ade8-197d-4b06-e3f3-a8d2873707be"
      },
      "execution_count": null,
      "outputs": [
        {
          "output_type": "display_data",
          "data": {
            "text/plain": [
              "<Figure size 2160x360 with 1 Axes>"
            ],
            "image/png": "[encoded data removed]"
          },
          "metadata": {
            "needs_background": "light"
          }
        }
      ]
    },
    {
      "cell_type": "markdown",
      "source": [
        "Idade entre 18 e 39"
      ],
      "metadata": {
        "id": "KZPotNWzUw4K"
      }
    },
    {
      "cell_type": "code",
      "source": [
        "saida1839 = df.query('18 <= Age <= 39')\n",
        "saida1839.value_counts()\n",
        "graf1839 = sns.countplot(x='Age', hue='Exited', data = saida1839)\n",
        "graf1839.figure.set_size_inches(30,5)\n",
        "plt.show()"
      ],
      "metadata": {
        "id": "G4BD191sU3Aq"
      },
      "execution_count": null,
      "outputs": []
    },
    {
      "cell_type": "markdown",
      "source": [
        "Idade maior que 60"
      ],
      "metadata": {
        "id": "EvpAIp_lVHJf"
      }
    },
    {
      "cell_type": "code",
      "source": [
        "saida6092 = df.query('18 <= Age <= 39')\n",
        "saida6092.value_counts()\n",
        "graf6092 = sns.countplot(x='Age', hue='Exited', data = saida6092)\n",
        "graf6092.figure.set_size_inches(30,5)\n",
        "plt.show()"
      ],
      "metadata": {
        "id": "LlQKhSHCVI7F"
      },
      "execution_count": null,
      "outputs": []
    },
    {
      "cell_type": "markdown",
      "source": [],
      "metadata": {
        "id": "zx9DoJGJVWjE"
      }
    },
    {
      "cell_type": "markdown",
      "source": [
        "##2.2 CREDIT SCORE"
      ],
      "metadata": {
        "id": "0nvmJl8UVgQc"
      }
    },
    {
      "cell_type": "markdown",
      "source": [
        "Definição faixa de score"
      ],
      "metadata": {
        "id": "gLdbDQCHVvCl"
      }
    },
    {
      "cell_type": "code",
      "source": [
        "def faixa_score (score):\n",
        "  if score <= 475:\n",
        "    return '0-475'\n",
        "  if score <= 600:\n",
        "    return '475-600'\n",
        "  if score <= 725:\n",
        "    return '600-725'\n",
        "  if score <= 850:\n",
        "    return '725-850'\n",
        "\n",
        "df['score_quali'] = [faixa_score(score) for score in df.CreditScore.to_list()]\n",
        "df['score_quali'].value_counts()"
      ],
      "metadata": {
        "id": "lBQYrF7pVje1"
      },
      "execution_count": null,
      "outputs": []
    },
    {
      "cell_type": "code",
      "source": [
        "saida_pelo_score = df.query(\"Exited == 1\")\n",
        "hist_age = sns.histplot(saida_pelo_score['score_quali'], kde= False, bins = 25 )\n",
        "hist_age.figure.set_size_inches(15, 5)\n",
        "hist_age.set_title('Distribuição de Frequências por score das pessoas que saíram', fontsize=20)\n",
        "hist_age.set_xlabel('Score', fontsize=16)\n",
        "hist_age\n",
        "plt.show()"
      ],
      "metadata": {
        "id": "u6ab11DUV6-W"
      },
      "execution_count": null,
      "outputs": []
    },
    {
      "cell_type": "markdown",
      "source": [
        "Proporção faixa de score"
      ],
      "metadata": {
        "id": "0nyGRG3pV_kx"
      }
    },
    {
      "cell_type": "code",
      "source": [
        "grafscore = sns.countplot(x = 'score_quali', hue = 'Exited', data = df)\n",
        "grafscore.figure.set_size_inches(30,5)\n",
        "grafscore.set_ylabel('')\n",
        "grafscore.set_xlabel('Score')\n",
        "plt.show()"
      ],
      "metadata": {
        "id": "PlKbR7DjWBxh"
      },
      "execution_count": null,
      "outputs": []
    },
    {
      "cell_type": "markdown",
      "source": [
        "##2.3 SALÁRIO"
      ],
      "metadata": {
        "id": "IGNeo_KkXbfA"
      }
    },
    {
      "cell_type": "code",
      "source": [
        "saida_pessoal = df.query('Exited == 1')"
      ],
      "metadata": {
        "id": "bB8MOcrVYVHj"
      },
      "execution_count": 19,
      "outputs": []
    },
    {
      "cell_type": "markdown",
      "source": [
        "Criando uma faixa para salario"
      ],
      "metadata": {
        "id": "P0B-bCZkYi-j"
      }
    },
    {
      "cell_type": "code",
      "source": [
        "def faixa_salario(salario):\n",
        "  if salario <= 50000:\n",
        "    return 'Abaixo de 50k'\n",
        "  if 100000 >= salario >= 50000:\n",
        "    return '50k-100k'\n",
        "  if 150000 >= salario >= 100000:\n",
        "    return '100k-150k'\n",
        "  if 200000 >= salario >= 150000:\n",
        "    return '150k-200k'\n",
        "\n",
        "#to_list é uma função que transforma coluna em lista para eu poder iterar\n",
        "df['faixa_salario'] = [faixa_salario(salario) for salario in df.EstimatedSalary.to_list()]\n"
      ],
      "metadata": {
        "id": "mJr931SMYCFi"
      },
      "execution_count": 20,
      "outputs": []
    },
    {
      "cell_type": "code",
      "source": [
        "saida_pessoal = df.query('Exited == 1')"
      ],
      "metadata": {
        "id": "9Jl8Mu_ju8eF"
      },
      "execution_count": 21,
      "outputs": []
    },
    {
      "cell_type": "code",
      "source": [
        "saida_pessoal['faixa_salario'].value_counts()"
      ],
      "metadata": {
        "colab": {
          "base_uri": "https://localhost:8080/"
        },
        "id": "6uJ8Np2du5ec",
        "outputId": "9c0260c5-4205-44f4-8807-8c5062944774"
      },
      "execution_count": 22,
      "outputs": [
        {
          "output_type": "execute_result",
          "data": {
            "text/plain": [
              "150k-200k        527\n",
              "100k-150k        517\n",
              "50k-100k         504\n",
              "Abaixo de 50k    489\n",
              "Name: faixa_salario, dtype: int64"
            ]
          },
          "metadata": {},
          "execution_count": 22
        }
      ]
    },
    {
      "cell_type": "markdown",
      "source": [
        "Distribuição dos salários totais\n"
      ],
      "metadata": {
        "id": "eA0TiZ0CYpeB"
      }
    },
    {
      "cell_type": "code",
      "source": [
        "hist_sal = sns.histplot(df['EstimatedSalary'], kde= False, bins = 25 )\n",
        "hist_sal.figure.set_size_inches(15, 5)\n",
        "hist_sal.set_title('Distribuição de Frequências por salário', fontsize=20)\n",
        "hist_sal.set_xlabel('Salário', fontsize=16)\n",
        "hist_sal\n",
        "plt.show()"
      ],
      "metadata": {
        "id": "YgP6uv6AX95y",
        "colab": {
          "base_uri": "https://localhost:8080/",
          "height": 0
        },
        "outputId": "9383f8c6-769b-4b38-f7e8-d5d7a1e9e5b5"
      },
      "execution_count": 23,
      "outputs": [
        {
          "output_type": "display_data",
          "data": {
            "text/plain": [
              "<Figure size 1080x360 with 1 Axes>"
            ],
            "image/png": "[encoded data removed]"
          },
          "metadata": {
            "needs_background": "light"
          }
        }
      ]
    },
    {
      "cell_type": "markdown",
      "source": [
        "Distribuição das faixas de salário"
      ],
      "metadata": {
        "id": "WK-DJ6FfYtMe"
      }
    },
    {
      "cell_type": "code",
      "source": [
        "hist_sal = sns.histplot(df['faixa_salario'], kde= False, bins = 25 )\n",
        "hist_sal.figure.set_size_inches(15, 5)\n",
        "hist_sal.set_title('Distribuição de salário das pessoas que saíram', fontsize=20)\n",
        "hist_sal.set_xlabel('Salário', fontsize=16)\n",
        "hist_sal\n",
        "plt.show()"
      ],
      "metadata": {
        "id": "l5SaD2xtYl8f",
        "colab": {
          "base_uri": "https://localhost:8080/",
          "height": 0
        },
        "outputId": "dbd48f80-0fff-45e5-8a91-7acd630c77d3"
      },
      "execution_count": 24,
      "outputs": [
        {
          "output_type": "display_data",
          "data": {
            "text/plain": [
              "<Figure size 1080x360 with 1 Axes>"
            ],
            "image/png": "[encoded data removed]"
          },
          "metadata": {
            "needs_background": "light"
          }
        }
      ]
    },
    {
      "cell_type": "markdown",
      "source": [
        "##BALANCE"
      ],
      "metadata": {
        "id": "x5K05p7pY7aj"
      }
    },
    {
      "cell_type": "markdown",
      "source": [
        "TOTAL DE CLIENTES COM BALANCE = 0"
      ],
      "metadata": {
        "id": "TqYGhUBXZ_Z1"
      }
    },
    {
      "cell_type": "code",
      "source": [
        "balance0 = df.query('Balance == 0')\n",
        "sns.countplot('Balance', hue = 'Exited', data = balance0)\n",
        "plt.show()\n",
        "\n",
        "\n"
      ],
      "metadata": {
        "id": "EoBfeF0zZoCp",
        "colab": {
          "base_uri": "https://localhost:8080/",
          "height": 0
        },
        "outputId": "62c50e28-5e8d-45ba-d78e-9c618bafe804"
      },
      "execution_count": 25,
      "outputs": [
        {
          "output_type": "display_data",
          "data": {
            "text/plain": [
              "<Figure size 432x288 with 1 Axes>"
            ],
            "image/png": "[encoded data removed]"
          },
          "metadata": {
            "needs_background": "light"
          }
        }
      ]
    },
    {
      "cell_type": "markdown",
      "source": [
        "ATIVOS QUE SAÍRAM COM BALANCE = 0 E POSSUEM CARTÃO DE CRÉDITO"
      ],
      "metadata": {
        "id": "4fQ3dIREaGYj"
      }
    },
    {
      "cell_type": "code",
      "source": [
        "ativos = df.query('Balance == 0 & Exited == 1 & IsActiveMember == 1')\n",
        "graf_als = sns.countplot(x='HasCrCard', data = ativos, hue = 'HasCrCard')\n",
        "graf_als.figure.set_size_inches(8,5)\n",
        "graf_als.set(title=\"Ativos\")\n",
        "\n",
        "plt.show()"
      ],
      "metadata": {
        "id": "-bs3rZKLaKKj",
        "colab": {
          "base_uri": "https://localhost:8080/",
          "height": 0
        },
        "outputId": "0f7b2cb7-f0e0-4bce-d30b-17071f671e57"
      },
      "execution_count": 26,
      "outputs": [
        {
          "output_type": "display_data",
          "data": {
            "text/plain": [
              "<Figure size 576x360 with 1 Axes>"
            ],
            "image/png": "[encoded data removed]"
          },
          "metadata": {
            "needs_background": "light"
          }
        }
      ]
    },
    {
      "cell_type": "markdown",
      "source": [
        "INATIVOS QUE SAÍRAM COM BALANCE = 0 E POSSUEM CARTÃO DE CRÉDITO"
      ],
      "metadata": {
        "id": "mMRV0gGVaRvi"
      }
    },
    {
      "cell_type": "code",
      "source": [
        "inativos = df.query('Balance == 0 & Exited == 1 & IsActiveMember == 0')\n",
        "graf_als = sns.countplot(x='HasCrCard', data = inativos, hue = 'HasCrCard')\n",
        "graf_als.figure.set_size_inches(8,5)\n",
        "graf_als.set(title=\"Ativos\")\n",
        "\n",
        "plt.show()"
      ],
      "metadata": {
        "id": "pfwUD3DqaVOQ",
        "colab": {
          "base_uri": "https://localhost:8080/",
          "height": 0
        },
        "outputId": "245d6fd2-8596-433b-84b4-0ee72f325c5d"
      },
      "execution_count": 27,
      "outputs": [
        {
          "output_type": "display_data",
          "data": {
            "text/plain": [
              "<Figure size 576x360 with 1 Axes>"
            ],
            "image/png": "[encoded data removed]"
          },
          "metadata": {
            "needs_background": "light"
          }
        }
      ]
    },
    {
      "cell_type": "markdown",
      "source": [
        "##PAÍS"
      ],
      "metadata": {
        "id": "-H0TgSKmbpnB"
      }
    },
    {
      "cell_type": "markdown",
      "source": [
        "PESSOAS QUE SAÍRAM POR PAÍS"
      ],
      "metadata": {
        "id": "fmPdx8Nxb3QI"
      }
    },
    {
      "cell_type": "code",
      "source": [
        "values = saida_pessoal.Geography.value_counts()\n",
        "labels = ['Germany','France','Spain']\n",
        "\n",
        "fig, ax = plt.subplots(figsize = (4, 3), dpi = 100)\n",
        "explode = (0, 0.09)\n",
        "\n",
        "patches, texts, autotexts = ax.pie(values, labels = labels, autopct = '%1.2f%%', shadow = True,\n",
        "                                   startangle = 90)\n",
        "\n",
        "plt.setp(texts, color = 'black')\n",
        "plt.setp(autotexts, size = 8, color = 'black')\n",
        "autotexts[1].set_color('black')\n",
        "plt.show()"
      ],
      "metadata": {
        "id": "uIU5qUPfbsug"
      },
      "execution_count": null,
      "outputs": []
    },
    {
      "cell_type": "markdown",
      "source": [
        "GRÁFICO DE BARRAS PARA ENTENDER A PROPORÇÃO DE QUEM DEU CHURN POR PAÍS"
      ],
      "metadata": {
        "id": "t9-bJNNdcbXS"
      }
    },
    {
      "cell_type": "code",
      "source": [
        "df\n",
        "sairambarras = sns.countplot(x='Geography', data = df, hue = 'Exited')"
      ],
      "metadata": {
        "id": "fcjrfepEb5fs",
        "colab": {
          "base_uri": "https://localhost:8080/",
          "height": 279
        },
        "outputId": "6d59dff1-946c-4175-b109-bd123328d861"
      },
      "execution_count": 29,
      "outputs": [
        {
          "output_type": "display_data",
          "data": {
            "text/plain": [
              "<Figure size 432x288 with 1 Axes>"
            ],
            "image/png": "[encoded data removed]"
          },
          "metadata": {
            "needs_background": "light"
          }
        }
      ]
    },
    {
      "cell_type": "markdown",
      "source": [
        "BOXPLOT DE IDADE POR PAÍS"
      ],
      "metadata": {
        "id": "t2JK0n1XcmBK"
      }
    },
    {
      "cell_type": "code",
      "source": [
        "saidas_pais = sns.boxplot(x = saida_pessoal[\"Age\"], y = saida_pessoal[\"Geography\"])\n",
        "saidas_pais.set(title=\"Concentração de saída por idade nos países\")\n",
        "plt.ylabel(\"\")\n",
        "plt.xlabel(\"Idade\")\n",
        "plt.xlim(18,60)\n",
        "\n",
        "plt.show()"
      ],
      "metadata": {
        "id": "4upIPjyGckBC",
        "colab": {
          "base_uri": "https://localhost:8080/",
          "height": 295
        },
        "outputId": "cde053ea-c346-4115-9527-73ba26a289aa"
      },
      "execution_count": 30,
      "outputs": [
        {
          "output_type": "display_data",
          "data": {
            "text/plain": [
              "<Figure size 432x288 with 1 Axes>"
            ],
            "image/png": "[encoded data removed]"
          },
          "metadata": {
            "needs_background": "light"
          }
        }
      ]
    },
    {
      "cell_type": "markdown",
      "source": [
        "OBSERVAR OS SALÁRIOS, PARA ISSO FOI DEFINIDO OS SALÁRIOS PELA IDADE. AQUI PUDE ENCONTRAR MAIS VARIAÇÕES"
      ],
      "metadata": {
        "id": "VECzt0p_c_8S"
      }
    },
    {
      "cell_type": "code",
      "source": [
        "#observar outras variaveis pela idade.\n",
        "idade_franca = df.query('Geography == \"France\" & 37 < Age < 53 & Exited == 1')\n",
        "idade_espanha = df.query('Geography == \"Spain\" & 35 < Age < 52 & Exited == 1')\n",
        "idade_alemanha = df.query('Geography == \"Germany\" & 38 < Age < 52 & Exited == 1')"
      ],
      "metadata": {
        "id": "Mb4FomPlc_eu"
      },
      "execution_count": 31,
      "outputs": []
    },
    {
      "cell_type": "markdown",
      "source": [
        "SAÍDA POR SALÁRIO NA ESPANHA"
      ],
      "metadata": {
        "id": "kzIjf7l1c5Ey"
      }
    },
    {
      "cell_type": "code",
      "source": [
        "graf_es = sns.countplot(data=idade_espanha, x=\"faixa_salario\")\n",
        "graf_es.set_xlabel('')\n",
        "graf_es.set_ylabel('')\n",
        "graf_es.set(title = \"Saída por salário na espanha\")"
      ],
      "metadata": {
        "id": "d5cKTq2Rcswh",
        "colab": {
          "base_uri": "https://localhost:8080/",
          "height": 299
        },
        "outputId": "8f87f574-b114-4795-8ff9-1d7d56fb48c9"
      },
      "execution_count": 32,
      "outputs": [
        {
          "output_type": "execute_result",
          "data": {
            "text/plain": [
              "[Text(0.5, 1.0, 'Saída por salário na espanha')]"
            ]
          },
          "metadata": {},
          "execution_count": 32
        },
        {
          "output_type": "display_data",
          "data": {
            "text/plain": [
              "<Figure size 432x288 with 1 Axes>"
            ],
            "image/png": "[encoded data removed]"
          },
          "metadata": {
            "needs_background": "light"
          }
        }
      ]
    },
    {
      "cell_type": "markdown",
      "source": [
        "SAÍDA POR SALÁRIO NA ALEMANHA"
      ],
      "metadata": {
        "id": "vdbaaRSmdTin"
      }
    },
    {
      "cell_type": "code",
      "source": [
        "graf_al = sns.countplot(data=idade_alemanha, x=\"faixa_salario\")\n",
        "graf_al.set_xlabel('')\n",
        "graf_al.set_ylabel('')\n",
        "graf_al.set(title = \"Saída por salário na Alemanha\")"
      ],
      "metadata": {
        "id": "afa_miNKdf1j",
        "colab": {
          "base_uri": "https://localhost:8080/",
          "height": 299
        },
        "outputId": "1f3f22b6-eea6-402c-d18d-31f0f41f0147"
      },
      "execution_count": 33,
      "outputs": [
        {
          "output_type": "execute_result",
          "data": {
            "text/plain": [
              "[Text(0.5, 1.0, 'Saída por salário na Alemanha')]"
            ]
          },
          "metadata": {},
          "execution_count": 33
        },
        {
          "output_type": "display_data",
          "data": {
            "text/plain": [
              "<Figure size 432x288 with 1 Axes>"
            ],
            "image/png": "[encoded data removed]"
          },
          "metadata": {
            "needs_background": "light"
          }
        }
      ]
    },
    {
      "cell_type": "markdown",
      "source": [
        "SAÍDA POR SALÁRIO NA FRANÇA"
      ],
      "metadata": {
        "id": "CT6zTtW8dh2L"
      }
    },
    {
      "cell_type": "code",
      "source": [
        "graf_fr = sns.countplot(data=idade_franca, x=\"faixa_salario\")\n",
        "graf_fr.set_xlabel('')\n",
        "graf_fr.set_ylabel('')\n",
        "graf_fr.set(title = \"Saída por salário na França\")\n",
        "plt.show()"
      ],
      "metadata": {
        "id": "e22HYsd5dkiF",
        "colab": {
          "base_uri": "https://localhost:8080/",
          "height": 281
        },
        "outputId": "ea09cfc2-2157-45d7-af6e-b269c1e59b4d"
      },
      "execution_count": 34,
      "outputs": [
        {
          "output_type": "display_data",
          "data": {
            "text/plain": [
              "<Figure size 432x288 with 1 Axes>"
            ],
            "image/png": "[encoded data removed]"
          },
          "metadata": {
            "needs_background": "light"
          }
        }
      ]
    },
    {
      "cell_type": "markdown",
      "source": [
        "SAÍDA POR ATIVIDADE POR PAÍS"
      ],
      "metadata": {
        "id": "wQbzrLjrdsW6"
      }
    },
    {
      "cell_type": "code",
      "source": [
        "saiu_pais = df.query('Exited == 1')\n",
        "\n",
        "grafico = sns.countplot(x = 'Geography', hue = 'IsActiveMember', data = saiu_pais)\n",
        "grafico.set(title = \"Saída por atividade\")"
      ],
      "metadata": {
        "id": "zCbXcXn5dwOc",
        "colab": {
          "base_uri": "https://localhost:8080/",
          "height": 313
        },
        "outputId": "76c86915-3d43-49a3-890e-3077faee6b7b"
      },
      "execution_count": 35,
      "outputs": [
        {
          "output_type": "execute_result",
          "data": {
            "text/plain": [
              "[Text(0.5, 1.0, 'Saída por atividade')]"
            ]
          },
          "metadata": {},
          "execution_count": 35
        },
        {
          "output_type": "display_data",
          "data": {
            "text/plain": [
              "<Figure size 432x288 with 1 Axes>"
            ],
            "image/png": "[encoded data removed]"
          },
          "metadata": {
            "needs_background": "light"
          }
        }
      ]
    },
    {
      "cell_type": "markdown",
      "source": [
        "SAÍDA POR ATIVIDADE E SEM SALDO EM CONTA(NINGUÉM NA ALEMANHA)"
      ],
      "metadata": {
        "id": "LOtcywyVd20v"
      }
    },
    {
      "cell_type": "code",
      "source": [
        "saiu_0 = df.query('Exited == 1 & Balance == 0')\n",
        "\n",
        "grafico = sns.countplot(x = 'Geography', hue = 'IsActiveMember', data = saiu_0)\n",
        "grafico.set(title = \"Saída por atividade\")"
      ],
      "metadata": {
        "id": "dWa9nXHpeK4v",
        "colab": {
          "base_uri": "https://localhost:8080/",
          "height": 313
        },
        "outputId": "0420a7a6-440b-4149-9cd2-4cd70a354672"
      },
      "execution_count": 36,
      "outputs": [
        {
          "output_type": "execute_result",
          "data": {
            "text/plain": [
              "[Text(0.5, 1.0, 'Saída por atividade')]"
            ]
          },
          "metadata": {},
          "execution_count": 36
        },
        {
          "output_type": "display_data",
          "data": {
            "text/plain": [
              "<Figure size 432x288 with 1 Axes>"
            ],
            "image/png": "[encoded data removed]"
          },
          "metadata": {
            "needs_background": "light"
          }
        }
      ]
    },
    {
      "cell_type": "markdown",
      "source": [
        "SAÍDA PELA FAIXA DE SCORE EM CADA PAÍS"
      ],
      "metadata": {
        "id": "hYkrKf0ReeTs"
      }
    },
    {
      "cell_type": "code",
      "source": [
        "saida_es = df.query('Exited == 1 & Geography == \"Spain\"')\n",
        "saida_al = df.query('Geography == \"Germany\" & Exited == 1')\n",
        "saida_fr = df.query('Geography == \"France\" & Exited == 1')"
      ],
      "metadata": {
        "id": "0Y5lgr5cevtM"
      },
      "execution_count": 37,
      "outputs": []
    },
    {
      "cell_type": "markdown",
      "source": [
        "SAÍDAS NA ESPANHA"
      ],
      "metadata": {
        "id": "DbUTns5deyn6"
      }
    },
    {
      "cell_type": "code",
      "source": [
        "graf_esp = sns.countplot(data=saida_es, x=\"score_quali\")\n",
        "graf_esp.set_xlabel('')\n",
        "graf_esp.set_ylabel('')\n",
        "graf_esp.set(title = \"Saída por score na espanha\")\n",
        "\n",
        "plt.show()"
      ],
      "metadata": {
        "id": "KtBuR__leip3",
        "colab": {
          "base_uri": "https://localhost:8080/",
          "height": 395
        },
        "outputId": "7c639577-179f-4885-bb2d-107eb318efb4"
      },
      "execution_count": 38,
      "outputs": [
        {
          "output_type": "error",
          "ename": "ValueError",
          "evalue": "ignored",
          "traceback": [
            "\u001b[0;31m---------------------------------------------------------------------------\u001b[0m",
            "\u001b[0;31mValueError\u001b[0m                                Traceback (most recent call last)",
            "\u001b[0;32m<ipython-input-38-51e26b0b28f9>\u001b[0m in \u001b[0;36m<module>\u001b[0;34m\u001b[0m\n\u001b[0;32m----> 1\u001b[0;31m \u001b[0mgraf_esp\u001b[0m \u001b[0;34m=\u001b[0m \u001b[0msns\u001b[0m\u001b[0;34m.\u001b[0m\u001b[0mcountplot\u001b[0m\u001b[0;34m(\u001b[0m\u001b[0mdata\u001b[0m\u001b[0;34m=\u001b[0m\u001b[0msaida_es\u001b[0m\u001b[0;34m,\u001b[0m \u001b[0mx\u001b[0m\u001b[0;34m=\u001b[0m\u001b[0;34m\"score_quali\"\u001b[0m\u001b[0;34m)\u001b[0m\u001b[0;34m\u001b[0m\u001b[0;34m\u001b[0m\u001b[0m\n\u001b[0m\u001b[1;32m      2\u001b[0m \u001b[0mgraf_esp\u001b[0m\u001b[0;34m.\u001b[0m\u001b[0mset_xlabel\u001b[0m\u001b[0;34m(\u001b[0m\u001b[0;34m''\u001b[0m\u001b[0;34m)\u001b[0m\u001b[0;34m\u001b[0m\u001b[0;34m\u001b[0m\u001b[0m\n\u001b[1;32m      3\u001b[0m \u001b[0mgraf_esp\u001b[0m\u001b[0;34m.\u001b[0m\u001b[0mset_ylabel\u001b[0m\u001b[0;34m(\u001b[0m\u001b[0;34m''\u001b[0m\u001b[0;34m)\u001b[0m\u001b[0;34m\u001b[0m\u001b[0;34m\u001b[0m\u001b[0m\n\u001b[1;32m      4\u001b[0m \u001b[0mgraf_esp\u001b[0m\u001b[0;34m.\u001b[0m\u001b[0mset\u001b[0m\u001b[0;34m(\u001b[0m\u001b[0mtitle\u001b[0m \u001b[0;34m=\u001b[0m \u001b[0;34m\"Saída por score na espanha\"\u001b[0m\u001b[0;34m)\u001b[0m\u001b[0;34m\u001b[0m\u001b[0;34m\u001b[0m\u001b[0m\n\u001b[1;32m      5\u001b[0m \u001b[0;34m\u001b[0m\u001b[0m\n",
            "\u001b[0;32m/usr/local/lib/python3.7/dist-packages/seaborn/_decorators.py\u001b[0m in \u001b[0;36minner_f\u001b[0;34m(*args, **kwargs)\u001b[0m\n\u001b[1;32m     44\u001b[0m             )\n\u001b[1;32m     45\u001b[0m         \u001b[0mkwargs\u001b[0m\u001b[0;34m.\u001b[0m\u001b[0mupdate\u001b[0m\u001b[0;34m(\u001b[0m\u001b[0;34m{\u001b[0m\u001b[0mk\u001b[0m\u001b[0;34m:\u001b[0m \u001b[0marg\u001b[0m \u001b[0;32mfor\u001b[0m \u001b[0mk\u001b[0m\u001b[0;34m,\u001b[0m \u001b[0marg\u001b[0m \u001b[0;32min\u001b[0m \u001b[0mzip\u001b[0m\u001b[0;34m(\u001b[0m\u001b[0msig\u001b[0m\u001b[0;34m.\u001b[0m\u001b[0mparameters\u001b[0m\u001b[0;34m,\u001b[0m \u001b[0margs\u001b[0m\u001b[0;34m)\u001b[0m\u001b[0;34m}\u001b[0m\u001b[0;34m)\u001b[0m\u001b[0;34m\u001b[0m\u001b[0;34m\u001b[0m\u001b[0m\n\u001b[0;32m---> 46\u001b[0;31m         \u001b[0;32mreturn\u001b[0m \u001b[0mf\u001b[0m\u001b[0;34m(\u001b[0m\u001b[0;34m**\u001b[0m\u001b[0mkwargs\u001b[0m\u001b[0;34m)\u001b[0m\u001b[0;34m\u001b[0m\u001b[0;34m\u001b[0m\u001b[0m\n\u001b[0m\u001b[1;32m     47\u001b[0m     \u001b[0;32mreturn\u001b[0m \u001b[0minner_f\u001b[0m\u001b[0;34m\u001b[0m\u001b[0;34m\u001b[0m\u001b[0m\n\u001b[1;32m     48\u001b[0m \u001b[0;34m\u001b[0m\u001b[0m\n",
            "\u001b[0;32m/usr/local/lib/python3.7/dist-packages/seaborn/categorical.py\u001b[0m in \u001b[0;36mcountplot\u001b[0;34m(x, y, hue, data, order, hue_order, orient, color, palette, saturation, dodge, ax, **kwargs)\u001b[0m\n\u001b[1;32m   3600\u001b[0m         \u001b[0mestimator\u001b[0m\u001b[0;34m,\u001b[0m \u001b[0mci\u001b[0m\u001b[0;34m,\u001b[0m \u001b[0mn_boot\u001b[0m\u001b[0;34m,\u001b[0m \u001b[0munits\u001b[0m\u001b[0;34m,\u001b[0m \u001b[0mseed\u001b[0m\u001b[0;34m,\u001b[0m\u001b[0;34m\u001b[0m\u001b[0;34m\u001b[0m\u001b[0m\n\u001b[1;32m   3601\u001b[0m         \u001b[0morient\u001b[0m\u001b[0;34m,\u001b[0m \u001b[0mcolor\u001b[0m\u001b[0;34m,\u001b[0m \u001b[0mpalette\u001b[0m\u001b[0;34m,\u001b[0m \u001b[0msaturation\u001b[0m\u001b[0;34m,\u001b[0m\u001b[0;34m\u001b[0m\u001b[0;34m\u001b[0m\u001b[0m\n\u001b[0;32m-> 3602\u001b[0;31m         \u001b[0merrcolor\u001b[0m\u001b[0;34m,\u001b[0m \u001b[0merrwidth\u001b[0m\u001b[0;34m,\u001b[0m \u001b[0mcapsize\u001b[0m\u001b[0;34m,\u001b[0m \u001b[0mdodge\u001b[0m\u001b[0;34m\u001b[0m\u001b[0;34m\u001b[0m\u001b[0m\n\u001b[0m\u001b[1;32m   3603\u001b[0m     )\n\u001b[1;32m   3604\u001b[0m \u001b[0;34m\u001b[0m\u001b[0m\n",
            "\u001b[0;32m/usr/local/lib/python3.7/dist-packages/seaborn/categorical.py\u001b[0m in \u001b[0;36m__init__\u001b[0;34m(self, x, y, hue, data, order, hue_order, estimator, ci, n_boot, units, seed, orient, color, palette, saturation, errcolor, errwidth, capsize, dodge)\u001b[0m\n\u001b[1;32m   1583\u001b[0m         \u001b[0;34m\"\"\"Initialize the plotter.\"\"\"\u001b[0m\u001b[0;34m\u001b[0m\u001b[0;34m\u001b[0m\u001b[0m\n\u001b[1;32m   1584\u001b[0m         self.establish_variables(x, y, hue, data, orient,\n\u001b[0;32m-> 1585\u001b[0;31m                                  order, hue_order, units)\n\u001b[0m\u001b[1;32m   1586\u001b[0m         \u001b[0mself\u001b[0m\u001b[0;34m.\u001b[0m\u001b[0mestablish_colors\u001b[0m\u001b[0;34m(\u001b[0m\u001b[0mcolor\u001b[0m\u001b[0;34m,\u001b[0m \u001b[0mpalette\u001b[0m\u001b[0;34m,\u001b[0m \u001b[0msaturation\u001b[0m\u001b[0;34m)\u001b[0m\u001b[0;34m\u001b[0m\u001b[0;34m\u001b[0m\u001b[0m\n\u001b[1;32m   1587\u001b[0m         \u001b[0mself\u001b[0m\u001b[0;34m.\u001b[0m\u001b[0mestimate_statistic\u001b[0m\u001b[0;34m(\u001b[0m\u001b[0mestimator\u001b[0m\u001b[0;34m,\u001b[0m \u001b[0mci\u001b[0m\u001b[0;34m,\u001b[0m \u001b[0mn_boot\u001b[0m\u001b[0;34m,\u001b[0m \u001b[0mseed\u001b[0m\u001b[0;34m)\u001b[0m\u001b[0;34m\u001b[0m\u001b[0;34m\u001b[0m\u001b[0m\n",
            "\u001b[0;32m/usr/local/lib/python3.7/dist-packages/seaborn/categorical.py\u001b[0m in \u001b[0;36mestablish_variables\u001b[0;34m(self, x, y, hue, data, orient, order, hue_order, units)\u001b[0m\n\u001b[1;32m    151\u001b[0m                 \u001b[0;32mif\u001b[0m \u001b[0misinstance\u001b[0m\u001b[0;34m(\u001b[0m\u001b[0mvar\u001b[0m\u001b[0;34m,\u001b[0m \u001b[0mstr\u001b[0m\u001b[0;34m)\u001b[0m\u001b[0;34m:\u001b[0m\u001b[0;34m\u001b[0m\u001b[0;34m\u001b[0m\u001b[0m\n\u001b[1;32m    152\u001b[0m                     \u001b[0merr\u001b[0m \u001b[0;34m=\u001b[0m \u001b[0;34m\"Could not interpret input '{}'\"\u001b[0m\u001b[0;34m.\u001b[0m\u001b[0mformat\u001b[0m\u001b[0;34m(\u001b[0m\u001b[0mvar\u001b[0m\u001b[0;34m)\u001b[0m\u001b[0;34m\u001b[0m\u001b[0;34m\u001b[0m\u001b[0m\n\u001b[0;32m--> 153\u001b[0;31m                     \u001b[0;32mraise\u001b[0m \u001b[0mValueError\u001b[0m\u001b[0;34m(\u001b[0m\u001b[0merr\u001b[0m\u001b[0;34m)\u001b[0m\u001b[0;34m\u001b[0m\u001b[0;34m\u001b[0m\u001b[0m\n\u001b[0m\u001b[1;32m    154\u001b[0m \u001b[0;34m\u001b[0m\u001b[0m\n\u001b[1;32m    155\u001b[0m             \u001b[0;31m# Figure out the plotting orientation\u001b[0m\u001b[0;34m\u001b[0m\u001b[0;34m\u001b[0m\u001b[0;34m\u001b[0m\u001b[0m\n",
            "\u001b[0;31mValueError\u001b[0m: Could not interpret input 'score_quali'"
          ]
        }
      ]
    },
    {
      "cell_type": "markdown",
      "source": [
        "SAÍDAS NA FRANÇA"
      ],
      "metadata": {
        "id": "eyfTeSd6e1fP"
      }
    },
    {
      "cell_type": "code",
      "source": [
        "graf_fra = sns.countplot(data=saida_fr, x=\"score_quali\")\n",
        "graf_fra.set_xlabel('')\n",
        "graf_fra.set_ylabel('')\n",
        "graf_fra.set(title = \"Saída por score na França\")"
      ],
      "metadata": {
        "id": "f185ZkZbe5wY"
      },
      "execution_count": null,
      "outputs": []
    },
    {
      "cell_type": "markdown",
      "source": [
        "SAÍDAS NA ALEMANHA"
      ],
      "metadata": {
        "id": "7AkAtiyUe3N9"
      }
    },
    {
      "cell_type": "code",
      "source": [
        "graf_ale = sns.countplot(data=saida_al, x=\"score_quali\")\n",
        "graf_ale.set_xlabel('')\n",
        "graf_ale.set_ylabel('')\n",
        "graf_ale.set(title = \"Saída por score na Alemanha\")"
      ],
      "metadata": {
        "id": "YjTJ0EzTe_M1"
      },
      "execution_count": null,
      "outputs": []
    }
  ]
}