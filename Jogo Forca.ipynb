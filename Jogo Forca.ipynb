{
 "cells": [
  {
   "cell_type": "code",
   "execution_count": 4,
   "metadata": {},
   "outputs": [
    {
     "name": "stdout",
     "output_type": "stream",
     "text": [
      "Bem vindo ao jogo da Forca!\n",
      "['_', '_', '_', '_', '_', '_']\n",
      "Você errou\n",
      "['_', '_', '_', '_', '_', '_']\n",
      "Você errou\n",
      "['_', '_', '_', '_', '_', '_']\n",
      "Você errou\n",
      "['_', '_', '_', '_', '_', '_']\n",
      "Você errou\n",
      "['_', '_', '_', '_', '_', '_']\n",
      "Você errou\n",
      "['_', '_', '_', '_', '_', '_']\n",
      "Você errou\n",
      "['_', '_', '_', '_', '_', '_']\n",
      "Você perdeu\n",
      "['_', '_', '_', '_', '_', '_']\n"
     ]
    }
   ],
   "source": [
    "#def jogar():\n",
    "print(\"Bem vindo ao jogo da Forca!\")\n",
    "   \n",
    "palavra_secreta = \"banana\".upper()\n",
    "letras_acertadas = [\"_\" for letra in palavra_secreta]\n",
    "enforcou = False\n",
    "acertou = False\n",
    "tentativas = 0\n",
    "\n",
    "print(letras_acertadas)\n",
    "\n",
    "while(not enforcou and not acertou):      \n",
    "  chute = input(\"Qual a letra?: \")\n",
    "  chute = chute.strip().upper()\n",
    "  if (chute in palavra_secreta):\n",
    "    i = 0\n",
    "    for letra in palavra_secreta:\n",
    "      if chute.upper() == letra.upper():\n",
    "        letras_acertadas[i] = letra\n",
    "      i += 1\n",
    "  else:\n",
    "    print(\"Você errou\")\n",
    "    tentativas += 1\n",
    "    \n",
    "  enforcou = tentativas == 6\n",
    "  acertou = \"_\" not in letras_acertadas\n",
    "  print(letras_acertadas)\n",
    "\n",
    "if (acertou):\n",
    "  print(\"Você acertou!!\")\n",
    "else:\n",
    "  print(\"Você perdeu\")\n",
    "   \n",
    "print(letras_acertadas)"
   ]
  }
 ],
 "metadata": {
  "kernelspec": {
   "display_name": "Python 3.8.0 64-bit",
   "language": "python",
   "name": "python3"
  },
  "language_info": {
   "codemirror_mode": {
    "name": "ipython",
    "version": 3
   },
   "file_extension": ".py",
   "mimetype": "text/x-python",
   "name": "python",
   "nbconvert_exporter": "python",
   "pygments_lexer": "ipython3",
   "version": "3.8.0"
  },
  "orig_nbformat": 4,
  "vscode": {
   "interpreter": {
    "hash": "8367a7af2b6d3d6c0f2778fcfbdf8dcd19b8851a5740a39b6557a0c5f2bafb1d"
   }
  }
 },
 "nbformat": 4,
 "nbformat_minor": 2
}
