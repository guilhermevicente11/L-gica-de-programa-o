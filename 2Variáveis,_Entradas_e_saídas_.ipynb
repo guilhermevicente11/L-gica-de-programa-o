{
  "nbformat": 4,
  "nbformat_minor": 0,
  "metadata": {
    "colab": {
      "provenance": [],
      "collapsed_sections": [],
      "authorship_tag": "ABX9TyNPAmmGQ7FssfkXE9B228Mw",
      "include_colab_link": true
    },
    "kernelspec": {
      "name": "python3",
      "display_name": "Python 3"
    },
    "language_info": {
      "name": "python"
    }
  },
  "cells": [
    {
      "cell_type": "markdown",
      "metadata": {
        "id": "view-in-github",
        "colab_type": "text"
      },
      "source": [
        "<a href=\"https://colab.research.google.com/github/guilhermevicente11/Logica-de-programacao/blob/main/2Vari%C3%A1veis%2C_Entradas_e_sa%C3%ADdas_.ipynb\" target=\"_parent\"><img src=\"https://colab.research.google.com/assets/colab-badge.svg\" alt=\"Open In Colab\"/></a>"
      ]
    },
    {
      "cell_type": "code",
      "execution_count": null,
      "metadata": {
        "colab": {
          "base_uri": "https://localhost:8080/"
        },
        "id": "hU1VT3SPkM2L",
        "outputId": "2036877f-012d-40ec-875d-9241cbe8bdf6"
      },
      "outputs": [
        {
          "output_type": "stream",
          "name": "stdout",
          "text": [
            "Informe o numero: 5\n",
            "O numero informado foi: 5.\n"
          ]
        }
      ],
      "source": [
        "#Faça um programa que peça um número e mostre a mensagem \"O número informado foi [número]\".\n",
        "numero = int(input(\"Informe o numero: \"))\n",
        "\n",
        "print(f\"O numero informado foi: {numero}.\")\n"
      ]
    },
    {
      "cell_type": "code",
      "source": [
        "#Faça um programa que peça um número para o usuário (string), converta-o para float e depois imprima-o na tela. Você consegue fazer a mesma coisa, porém convertendo para int?\n",
        "numero = input(\"Insira seu numero: \")\n",
        "\n",
        "z = float(numero)\n",
        "\n",
        "print(f\"O numero escolhido foi: {z}.\")"
      ],
      "metadata": {
        "colab": {
          "base_uri": "https://localhost:8080/"
        },
        "id": "qVCfFttGlYtH",
        "outputId": "471a2d66-0aa2-4f6f-b9e2-ca28c3f44984"
      },
      "execution_count": null,
      "outputs": [
        {
          "output_type": "stream",
          "name": "stdout",
          "text": [
            "Insira seu numero: 28\n",
            "O numer escolhido foi: 28.0.\n"
          ]
        }
      ]
    },
    {
      "cell_type": "code",
      "source": [
        "numero = input(\"Insira seu numero: \")\n",
        "\n",
        "z = int(numero)\n",
        "\n",
        "print(f\"O numero escolhido foi: {z}.\")"
      ],
      "metadata": {
        "colab": {
          "base_uri": "https://localhost:8080/"
        },
        "id": "9qsEDpSepx5d",
        "outputId": "6d5224a6-5b9f-413c-c161-6f57db6b19a7"
      },
      "execution_count": null,
      "outputs": [
        {
          "output_type": "stream",
          "name": "stdout",
          "text": [
            "Insira seu numero: 28\n",
            "O numer escolhido foi: 28.\n"
          ]
        }
      ]
    },
    {
      "cell_type": "code",
      "source": [
        "#Faça um programa que peça dois números inteiros e imprima a soma deles.\n",
        "\n",
        "numero_1 = int(input(\"Insira um numero: \"))\n",
        "numero_2 = int(input(\"Insira outro numero: \"))\n",
        "\n",
        "soma = numero_1 + numero_2\n",
        "\n",
        "print(f'A soma dos números é: {soma}. ')\n",
        "\n"
      ],
      "metadata": {
        "colab": {
          "base_uri": "https://localhost:8080/"
        },
        "id": "ligQH8y1qvug",
        "outputId": "2d68cda7-9cb0-4163-abef-75c258b57bdf"
      },
      "execution_count": null,
      "outputs": [
        {
          "output_type": "stream",
          "name": "stdout",
          "text": [
            "Insira um numero: 45\n",
            "Insira outro numero: 55\n",
            "A soma dos números é: 100. \n"
          ]
        }
      ]
    },
    {
      "cell_type": "code",
      "source": [
        "#Faça um programa que peça as 4 notas bimestrais de um aluno e mostre a média aritmética delas.\n",
        "\n",
        "nota_1 = float(input(\"Nota do primeiro bimestre: \"))\n",
        "nota_2 = float(input(\"Nota do segundo bimestre: \"))\n",
        "nota_3 = float(input(\"Nota do terceiro bimestre: \"))\n",
        "nota_4 = float(input(\"Nota do quarto bimestre: \"))\n",
        "\n",
        "nota_total = (nota_1 + nota_2 + nota_3 + nota_4)\n",
        "\n",
        "media = (nota_total) / 4\n",
        "\n",
        "print(f\"A media do aluno no ano foi: {media}.\")\n",
        "\n"
      ],
      "metadata": {
        "colab": {
          "base_uri": "https://localhost:8080/"
        },
        "id": "jrbKeyE2rrDv",
        "outputId": "660d3e1d-185a-4417-b88e-19eef8828d09"
      },
      "execution_count": null,
      "outputs": [
        {
          "output_type": "stream",
          "name": "stdout",
          "text": [
            "Nota do primeiro bimestre: 7.5\n",
            "Nota do segundo bimestre: 8\n",
            "Nota do terceiro bimestre: 6\n",
            "Nota do quarto bimestre: 7\n",
            "A media do aluno no ano foi: 7.125.\n"
          ]
        }
      ]
    },
    {
      "cell_type": "code",
      "source": [
        "#Faça um programa que peça o raio de um círculo, calcule e mostre sua área.\n",
        "\n",
        "raio_circulo = float(input(\"Informe o raio do circulo: \"))\n",
        "\n",
        "area_circulo = 3.14*(raio_circulo)**2\n",
        "\n",
        "print(f\"A area do circulo é: {area_circulo}.\")\n"
      ],
      "metadata": {
        "colab": {
          "base_uri": "https://localhost:8080/"
        },
        "id": "bJf-ywOsvHWi",
        "outputId": "aceedf1a-8eca-4f45-dc08-a325b82125a9"
      },
      "execution_count": null,
      "outputs": [
        {
          "output_type": "stream",
          "name": "stdout",
          "text": [
            "Informe o raio do circulo: 25\n",
            "A area do circulo é: 1962.5.\n"
          ]
        }
      ]
    },
    {
      "cell_type": "code",
      "source": [
        "# Faça um programa que pergunte quanto você ganha por hora e o número de horas trabalhadas no mês e depois, calcule e mostre o total do seu salário no referido mês.\n",
        "\n",
        "valor_hora = float(input(\"Qual seu salario por hora trabalhada?: \"))\n",
        "hora_trabalhada = float(input(\"Quantas horas você trabalha no mês?: \"))\n",
        "\n",
        "total_salario = valor_hora * hora_trabalhada\n",
        "\n",
        "print(f\"Seu salário no mês é de: {total_salario}.\")\n",
        "\n",
        "\n",
        "\n"
      ],
      "metadata": {
        "colab": {
          "base_uri": "https://localhost:8080/"
        },
        "id": "pWQPnh7hw2bD",
        "outputId": "9c1f949e-99d6-4374-8129-8189d3e1d34e"
      },
      "execution_count": null,
      "outputs": [
        {
          "output_type": "stream",
          "name": "stdout",
          "text": [
            "Qual seu salario por hora trabalhada?: 2.50\n",
            "Quantas horas você trabalha no mês?: 220\n",
            "Seu salário no mês é de: 550.0.\n"
          ]
        }
      ]
    },
    {
      "cell_type": "code",
      "source": [
        "# Transforme Fahrenheit em CELSIUS.\n",
        "\n",
        "temperatura_far = float(input(\"Informe a temperatura em graus Fahrenheit: \"))\n",
        "\n",
        "conversao_cel = (temperatura_far - 32) / 1.8\n",
        "\n",
        "print(f\"A temperatura de {temperatura_far} Fahrenheit é igual a {conversao_cel} em Celsius\")\n",
        "\n"
      ],
      "metadata": {
        "id": "tW95zfBcQQgL"
      },
      "execution_count": null,
      "outputs": []
    },
    {
      "cell_type": "code",
      "source": [
        "#Transformar CELSIUS em FAHRENHEIT\n",
        "\n",
        "temperatura_cel = float(input(\"Informe a temperatura em graus celsius: \"))\n",
        "\n",
        "conversao_far = (1.8*temperatura_cel) + 32\n",
        "\n",
        "print(f\"A temperatura de {temperatura_cel} Celsius é igual a {conversao_far} em Fahrenheit\")\n"
      ],
      "metadata": {
        "id": "t1UE3uH6UGhr"
      },
      "execution_count": null,
      "outputs": []
    },
    {
      "cell_type": "code",
      "source": [
        "# Faça um programa que peça o dia, o mês e o ano para o usuário e imprima a data completa no formato dd/mm/aaaa.\n",
        "#INCOMPLETO\n",
        "\n",
        "dia = int(input(\"Informe o dia de nascimento: \"))\n",
        "mes = int(input(\"Informe o mes de nascimento: \"))\n",
        "ano = int(input(\"Informe o ano de nascimento: \"))\n",
        "\n",
        "\n",
        "print(f\"A data de nascimento é:{dia}/{mes}/{ano}.\")\n",
        "\n",
        "\n",
        "\n"
      ],
      "metadata": {
        "id": "lHT2y5RPXygQ",
        "colab": {
          "base_uri": "https://localhost:8080/"
        },
        "outputId": "02a843c7-27cb-46b3-8c09-de2fa66d5e88"
      },
      "execution_count": null,
      "outputs": [
        {
          "output_type": "stream",
          "name": "stdout",
          "text": [
            "Informe o dia de nascimento: 25\n",
            "Informe o mes de nascimento: 02\n",
            "Informe o ano de nascimento: 1996\n",
            "A data de nascimento é:25/2/1996.\n"
          ]
        }
      ]
    },
    {
      "cell_type": "code",
      "source": [
        "#Faça um programa que peça 2 números inteiros e um número real, calcule e mostre:\n",
        "# o produto do dobro do primeiro com metade do segundo.\n",
        "# a soma do triplo do primeiro com o terceiro.\n",
        "# o terceiro elevado ao cubo.\n",
        "\n",
        "primeiro_numero = int(input(\"Digite um numero inteiro: \"))\n",
        "segundo_numero = int(input(\"Digite um numero inteiro: \"))\n",
        "terceiro_numero = float(input(\"Digite um numero real: \"))\n",
        "\n",
        "resposta_1 = (primeiro_numero * 2) * (segundo_numero / 2)\n",
        "resposta_2 = (primeiro_numero * 3) + (terceiro_numero)\n",
        "resposta_3 = (terceiro_numero) ** 3\n",
        "\n",
        "print(f\"O produto do dobro do primeiro com metade do segundo é: {resposta_1}.\")\n",
        "print(f\"A soma do triplo do primeiro com o terceiro é: {resposta_2}.\")\n",
        "print(f\"O terceiro elevado ao cubo é: {resposta_3}.\")"
      ],
      "metadata": {
        "colab": {
          "base_uri": "https://localhost:8080/"
        },
        "id": "LwEFrs6jxjXY",
        "outputId": "352ae946-9314-4b74-f37f-d851358d3104"
      },
      "execution_count": null,
      "outputs": [
        {
          "output_type": "stream",
          "name": "stdout",
          "text": [
            "Digite um numero inteiro: 2\n",
            "Digite um numero inteiro: 4\n",
            "Digite um numero real: 2.5\n",
            "O produto do dobro do primeiro com metade do segundo é: 8.0.\n",
            "A soma do triplo do primeiro com o terceiro é: 8.5.\n",
            "O terceiro elevado ao cubo é: 15.625.\n"
          ]
        }
      ]
    },
    {
      "cell_type": "code",
      "source": [
        "altura = float(input(\"Digite sua altura: \"))\n",
        "peso = float(input(\"Digite seu peso: \"))\n",
        "\n",
        "imc = (peso)/(altura)**2\n",
        "\n",
        "resultado_imc = round(imc, 2)\n",
        "\n",
        "print(f\"Seu imc é: {resultado_imc}\")"
      ],
      "metadata": {
        "colab": {
          "base_uri": "https://localhost:8080/"
        },
        "id": "uMmQD8zN9CzY",
        "outputId": "0d88be74-247c-4687-b56c-0cab28703bf8"
      },
      "execution_count": null,
      "outputs": [
        {
          "output_type": "stream",
          "name": "stdout",
          "text": [
            "Digite sua altura: 1.90\n",
            "Digite seu peso: 100\n",
            "Seu imc é: 27.7\n"
          ]
        }
      ]
    },
    {
      "cell_type": "code",
      "source": [
        "valor = float(input(\"Digite o valor monetário: \"))\n",
        "\n",
        "acrescimo = (valor*1.15)\n",
        "\n",
        "acrescimo_arredondado = round(acrescimo)\n",
        "\n",
        "print(f\"O novo valor é de: {acrescimo_arredondado}\")\n",
        "\n",
        "\n"
      ],
      "metadata": {
        "colab": {
          "base_uri": "https://localhost:8080/"
        },
        "id": "Tk9qA32H_T7x",
        "outputId": "69457dd1-47b9-4489-ca21-6113d9d1ee83"
      },
      "execution_count": null,
      "outputs": [
        {
          "output_type": "stream",
          "name": "stdout",
          "text": [
            "Digite o valor monetário: 100\n",
            "O novo valor é de: 115\n"
          ]
        }
      ]
    },
    {
      "cell_type": "code",
      "source": [
        "valor = float(input(\"Digite o valor monetário: \"))\n",
        "\n",
        "decrescimo = (valor) - (valor * 0.15)\n",
        "\n",
        "decrescimo_arredondado = round(decrescimo)\n",
        "\n",
        "print(f\"O novo valor é de: {decrescimo_arredondado}\")"
      ],
      "metadata": {
        "colab": {
          "base_uri": "https://localhost:8080/"
        },
        "id": "bptfQR_sAbo-",
        "outputId": "1f6821aa-c564-41cc-b6ff-310ed0f5c725"
      },
      "execution_count": null,
      "outputs": [
        {
          "output_type": "stream",
          "name": "stdout",
          "text": [
            "Digite o valor monetário: 200\n",
            "O novo valor é de: 170\n"
          ]
        }
      ]
    },
    {
      "cell_type": "code",
      "source": [
        "# Sorvetao MUV - Vertical\n",
        "# Digitar uma velocidade inicial (em m/s), uma posição inicial (em m) e um instante de tempo (em s) e imprima a posição de um projétil nesse instante de tempo.\n",
        "\n",
        "y0 = float(input(\"Digite a posição inicial do projetil em metros: \"))\n",
        "v0 = float(input(\"Digite a velocidade inicial di projétil em m/s: \"))\n",
        "t = float(input(\"Digite o instante de tempo desejado em segundos: \"))\n",
        "\n",
        "posicao_projetil = y0 + (v0*t) + (-10*(t**2) / 2)\n",
        "\n",
        "print(f\"A posição do projetil é: {posicao_projetil}.\")\n"
      ],
      "metadata": {
        "colab": {
          "base_uri": "https://localhost:8080/"
        },
        "id": "DRdOa1pvfmHE",
        "outputId": "171a9dd4-0d17-47f7-a4f6-a913d49a2faa"
      },
      "execution_count": null,
      "outputs": [
        {
          "output_type": "stream",
          "name": "stdout",
          "text": [
            "Digite a posição inicial do projetil em metros: 500\n",
            "Digite a velocidade inicial di projétil em m/s: 250\n",
            "Digite o instante de tempo desejado em segundos: 2\n",
            "A posição do projetil é: 980.0.\n"
          ]
        }
      ]
    },
    {
      "cell_type": "code",
      "source": [
        "from datetime import datetime\n",
        "\n",
        "data_hora = datetime.now()\n",
        "\n",
        "print(data_hora)"
      ],
      "metadata": {
        "colab": {
          "base_uri": "https://localhost:8080/"
        },
        "id": "s5jf1VFPodqF",
        "outputId": "2a689a6c-33ae-4123-cd57-959e1b3e9986"
      },
      "execution_count": null,
      "outputs": [
        {
          "output_type": "stream",
          "name": "stdout",
          "text": [
            "2022-08-25 01:18:44.444279\n"
          ]
        }
      ]
    },
    {
      "cell_type": "code",
      "source": [],
      "metadata": {
        "id": "0O0q0Yi3qfPP"
      },
      "execution_count": null,
      "outputs": []
    }
  ]
}